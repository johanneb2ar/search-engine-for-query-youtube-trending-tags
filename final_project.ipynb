{
 "cells": [
  {
   "attachments": {},
   "cell_type": "markdown",
   "metadata": {},
   "source": [
    "Prepare Data for Searching"
   ]
  },
  {
   "cell_type": "code",
   "execution_count": 1,
   "metadata": {},
   "outputs": [
    {
     "name": "stdout",
     "output_type": "stream",
     "text": [
      "23/04/25 16:12:02 WARN Utils: Your hostname, Johannes-MacBook-Pro.local resolves to a loopback address: 127.0.0.1; using 10.206.53.80 instead (on interface en0)\n",
      "23/04/25 16:12:02 WARN Utils: Set SPARK_LOCAL_IP if you need to bind to another address\n"
     ]
    },
    {
     "name": "stderr",
     "output_type": "stream",
     "text": [
      "Setting default log level to \"WARN\".\n",
      "To adjust logging level use sc.setLogLevel(newLevel). For SparkR, use setLogLevel(newLevel).\n"
     ]
    },
    {
     "name": "stdout",
     "output_type": "stream",
     "text": [
      "23/04/25 16:12:03 WARN NativeCodeLoader: Unable to load native-hadoop library for your platform... using builtin-java classes where applicable\n",
      "Using Apache Spark Version 3.3.2\n"
     ]
    },
    {
     "name": "stderr",
     "output_type": "stream",
     "text": [
      "/Users/johannebear/opt/anaconda3/envs/Flask/lib/python3.9/site-packages/pyspark/sql/context.py:112: FutureWarning: Deprecated in 3.0.0. Use SparkSession.builder.getOrCreate() instead.\n",
      "  warnings.warn(\n"
     ]
    }
   ],
   "source": [
    "from pyspark.conf import SparkConf\n",
    "from pyspark import SparkContext\n",
    "from pyspark.sql import SQLContext\n",
    "sc = SparkContext() \n",
    "sc.stop()\n",
    "config = sc.getConf()\n",
    "config.set('spark.cores.max','4')\n",
    "config.set('spark.executor.memory', '8G')\n",
    "config.set('spark.driver.maxResultSize', '8g')\n",
    "config.set('spark.kryoserializer.buffer.max', '512m')\n",
    "config.set(\"spark.driver.cores\", \"4\")\n",
    "sc.stop()\n",
    "sc = SparkContext(conf = config) \n",
    "sqlContext = SQLContext(sc)\n",
    "print(\"Using Apache Spark Version\", sc.version)"
   ]
  },
  {
   "cell_type": "code",
   "execution_count": 2,
   "metadata": {},
   "outputs": [
    {
     "name": "stderr",
     "output_type": "stream",
     "text": [
      "                                                                                \r"
     ]
    },
    {
     "data": {
      "text/plain": [
       "2985417"
      ]
     },
     "execution_count": 2,
     "metadata": {},
     "output_type": "execute_result"
    }
   ],
   "source": [
    "# Read the csv dataset into Spark Dataframe and output the rows in the dataframe\n",
    "all_videos_file='/Users/johannebear/Library/Mobile Documents/com~apple~CloudDocs/APPLIED ANALYTICS/APAN 5400/final project/youtube videos datasets/YouTubeVideos_trending_data.csv'\n",
    "all_videos_sdf = sqlContext.read.option(\"header\", \"true\") \\\n",
    "                         .option(\"delimiter\", \",\") \\\n",
    "                         .option(\"inferSchema\", \"true\") \\\n",
    "                         .csv(all_videos_file)\n",
    "all_videos_sdf.count()"
   ]
  },
  {
   "cell_type": "code",
   "execution_count": 3,
   "metadata": {},
   "outputs": [],
   "source": [
    "# Filter out all the videos in USA\n",
    "usa_videos=all_videos_sdf.filter(all_videos_sdf['country']=='US')"
   ]
  },
  {
   "cell_type": "code",
   "execution_count": 4,
   "metadata": {},
   "outputs": [
    {
     "name": "stderr",
     "output_type": "stream",
     "text": [
      "[Stage 7:======================================================>  (19 + 1) / 20]\r"
     ]
    },
    {
     "name": "stdout",
     "output_type": "stream",
     "text": [
      "+-----------+----------+------+--------------+\n",
      "|   video_id|view_count| likes|      category|\n",
      "+-----------+----------+------+--------------+\n",
      "|3C66w5Z0ixs|   1514614|156908|People & Blogs|\n",
      "|M9Pmf9AB4Mo|   2381688|146739|        Gaming|\n",
      "|J78aPJ3VyNs|   2038853|353787| Entertainment|\n",
      "|kXLn3HkpjaA|    496771| 23251|         Music|\n",
      "|VIUo6yapDbc|   1123889| 45802| Howto & Style|\n",
      "|w-aidBdvZo8|    949491| 77487| Entertainment|\n",
      "|uet14uf9NsE|    470446| 47990| Howto & Style|\n",
      "|ua4QMFQATco|   1050143| 89190|     Education|\n",
      "|SnsPZj91R7E|   1402687| 95694| Entertainment|\n",
      "|SsWHMAhshPQ|    741028|113983|         Music|\n",
      "+-----------+----------+------+--------------+\n",
      "only showing top 10 rows\n",
      "\n"
     ]
    },
    {
     "name": "stderr",
     "output_type": "stream",
     "text": [
      "                                                                                \r"
     ]
    }
   ],
   "source": [
    "# Show the first 10 rows of videos in usa alongwith title, view_couunt,likes, and category\n",
    "usa_videos.select('video_id', 'view_count', 'likes', 'category').show(10)"
   ]
  },
  {
   "cell_type": "code",
   "execution_count": 5,
   "metadata": {},
   "outputs": [
    {
     "name": "stdout",
     "output_type": "stream",
     "text": [
      "23/04/25 16:12:31 WARN SparkSession: Using an existing Spark session; only runtime SQL configurations will take effect.\n"
     ]
    },
    {
     "name": "stderr",
     "output_type": "stream",
     "text": [
      "                                                                                \r"
     ]
    },
    {
     "name": "stdout",
     "output_type": "stream",
     "text": [
      "192590\n"
     ]
    }
   ],
   "source": [
    "from pyspark.sql import SparkSession\n",
    "# Create a sparksession object\n",
    "spark = SparkSession.builder.appName(\"Convert to Pandas\").getOrCreate()\n",
    "# Convert the Spark DataFrame to a Pandas DataFrame\n",
    "usa_videos_pandas_df = usa_videos.toPandas()\n",
    "# Print the rows of Pandas DataFrame\n",
    "print(len(usa_videos_pandas_df))\n"
   ]
  },
  {
   "cell_type": "code",
   "execution_count": 6,
   "metadata": {},
   "outputs": [
    {
     "name": "stdout",
     "output_type": "stream",
     "text": [
      "write successfully!\n"
     ]
    }
   ],
   "source": [
    "import pandas as pd\n",
    "# Write the usa_videos dataframe to a csv file\n",
    "usa_videos_pandas_df.to_csv('/Users/johannebear/Library/Mobile Documents/com~apple~CloudDocs/APPLIED ANALYTICS/APAN 5400/final project/youtube videos datasets/USA_Videos_trending_data.csv')\n",
    "print('write successfully!')\n"
   ]
  },
  {
   "cell_type": "markdown",
   "metadata": {},
   "source": [
    "Import Filtered Dataset into Neo4j Database for Query"
   ]
  },
  {
   "cell_type": "code",
   "execution_count": 7,
   "metadata": {},
   "outputs": [
    {
     "name": "stdout",
     "output_type": "stream",
     "text": [
      "Successfully connected to Neo4j!\n"
     ]
    }
   ],
   "source": [
    "from neo4j import GraphDatabase\n",
    "\n",
    "# Connect to database\n",
    "database_name = \"neo4j\"\n",
    "username = \"apan5400\"\n",
    "password = \"12345678\"\n",
    "uri = \"bolt://localhost:7689/\" + database_name\n",
    "\n",
    "driver = GraphDatabase.driver(uri, auth=(username, password))\n",
    "session = driver.session()\n",
    "\n",
    "print(\"Successfully connected to Neo4j!\")"
   ]
  },
  {
   "cell_type": "code",
   "execution_count": 8,
   "metadata": {},
   "outputs": [
    {
     "name": "stdout",
     "output_type": "stream",
     "text": [
      "Index(['video_id', 'video_title', 'publishedAt', 'country', 'channelId',\n",
      "       'channelTitle', 'category', 'trending_date', 'tags', 'view_count',\n",
      "       'likes', 'dislikes', 'comment_count', 'thumbnail_link',\n",
      "       'comments_disabled', 'ratings_disabled', 'description'],\n",
      "      dtype='object')\n"
     ]
    }
   ],
   "source": [
    "print(usa_videos_pandas_df.columns)\n"
   ]
  },
  {
   "cell_type": "code",
   "execution_count": 9,
   "metadata": {},
   "outputs": [
    {
     "name": "stdout",
     "output_type": "stream",
     "text": [
      "All Nodes and relationships are deleted!\n"
     ]
    }
   ],
   "source": [
    "# Delete all nodes and relationships\n",
    "query1 = (\"MATCH (n) OPTIONAL MATCH (n)-[r]-() DELETE n,r\")\n",
    "result1 = session.run(query1)\n",
    "print(\"All Nodes and relationships are deleted!\")"
   ]
  },
  {
   "cell_type": "code",
   "execution_count": 10,
   "metadata": {},
   "outputs": [
    {
     "name": "stdout",
     "output_type": "stream",
     "text": [
      "All videos are imported from a csv file!\n"
     ]
    }
   ],
   "source": [
    "# Import graph from csv and create relationships\n",
    "query2 = (\n",
    "    \"LOAD CSV WITH HEADERS FROM 'http://localhost:11001/project-f46884dd-b89d-4a4e-8dca-2a9c5950888d/USA_Videos_trending_data.csv' AS line \"\n",
    "    'CREATE (videos:Videos { \\\n",
    "                       id: line.video_id, \\\n",
    "                title: line.video_title,\\\n",
    "                  tags: line.tags,\\\n",
    "                       description: line.description\\\n",
    "                            } \\\n",
    "            )'\n",
    "    'CREATE(performance:Performance{\\\n",
    "                          view_count: toInteger(line.view_count), \\\n",
    "                          likes: toInteger(line.likes),\\\n",
    "                         dislikes: toInteger(line.dislikes),\\\n",
    "                       comment_count: toInteger(line.comment_count)\\\n",
    "                                   } \\\n",
    "            )'\n",
    "     'MERGE  (category:Category {name: line.category})'  \n",
    "     'CREATE (videos)-[:BELONG_TO]->(category)'\n",
    "     'CREATE (videos)-[:HAS_PERFORMANCE]->(performance)'\n",
    "     'CREATE (performance)-[:BELONG_TO]->(category)'\n",
    "    )\n",
    "\n",
    "result2 = session.run(query2)\n",
    "print(\"All videos are imported from a csv file!\")"
   ]
  },
  {
   "attachments": {},
   "cell_type": "markdown",
   "metadata": {},
   "source": [
    "How many videos in each category？"
   ]
  },
  {
   "cell_type": "code",
   "execution_count": 11,
   "metadata": {},
   "outputs": [
    {
     "data": {
      "text/plain": [
       "['Entertainment: 38511',\n",
       " 'Gaming: 37795',\n",
       " 'Music: 31490',\n",
       " 'Sports: 21419',\n",
       " 'People & Blogs: 16830',\n",
       " 'Comedy: 10146',\n",
       " 'Film & Animation: 7612',\n",
       " 'News & Politics: 7296',\n",
       " 'Science & Technology: 5833',\n",
       " 'Howto & Style: 5269',\n",
       " 'Education: 4698',\n",
       " 'Autos & Vehicles: 3638',\n",
       " 'Travel & Events: 1073',\n",
       " 'Pets & Animals: 866',\n",
       " 'Nonprofits & Activism: 114']"
      ]
     },
     "execution_count": 11,
     "metadata": {},
     "output_type": "execute_result"
    }
   ],
   "source": [
    "query3=('MATCH (videos:Videos)-[:BELONG_TO]->(category:Category) \\\n",
    "RETURN category.name, count(videos) AS num_videos \\\n",
    "ORDER BY num_videos DESC')\n",
    "result3 = session.run(query3)   \n",
    "[f\"{record['category.name']}: {record['num_videos']}\" for record in result3]\n"
   ]
  },
  {
   "attachments": {},
   "cell_type": "markdown",
   "metadata": {},
   "source": [
    "How many total count_views in each category?"
   ]
  },
  {
   "cell_type": "code",
   "execution_count": 12,
   "metadata": {},
   "outputs": [
    {
     "data": {
      "text/plain": [
       "['Music: 137989415350',\n",
       " 'Entertainment: 116419483155',\n",
       " 'Gaming: 65480643859',\n",
       " 'Sports: 42990992839',\n",
       " 'People & Blogs: 29540072442',\n",
       " 'Film & Animation: 17890817016',\n",
       " 'Comedy: 17537271734',\n",
       " 'News & Politics: 16058843040',\n",
       " 'Science & Technology: 15520265077',\n",
       " 'Education: 8190372273',\n",
       " 'Howto & Style: 6655100772',\n",
       " 'Autos & Vehicles: 3460024257',\n",
       " 'Travel & Events: 1094905011',\n",
       " 'Pets & Animals: 1008237756',\n",
       " 'Nonprofits & Activism: 279268359']"
      ]
     },
     "execution_count": 12,
     "metadata": {},
     "output_type": "execute_result"
    }
   ],
   "source": [
    "query4=('MATCH (videos:Videos)-[:HAS_PERFORMANCE]->(performance:Performance)-[:BELONG_TO]->(category:Category) \\\n",
    "        RETURN category.name, SUM(performance.view_count) AS total_views \\\n",
    "           ORDER BY total_views DESC')\n",
    "\n",
    "result4 = session.run(query4)   \n",
    "[f\"{record['category.name']}: {record['total_views']}\" for record in result4]"
   ]
  },
  {
   "attachments": {},
   "cell_type": "markdown",
   "metadata": {},
   "source": [
    "Print the top 10 videos with most comments"
   ]
  },
  {
   "cell_type": "code",
   "execution_count": 13,
   "metadata": {},
   "outputs": [
    {
     "data": {
      "text/plain": [
       "['I ASKED HER TO BE MY GIRLFRIEND...: None',\n",
       " 'Apex Legends | Stories from the Outlands – “The Endorsement”: None',\n",
       " 'I left youtube for a month and THIS is what happened.: None',\n",
       " 'XXL 2020 Freshman Class Revealed - Official Announcement: None',\n",
       " 'Ultimate DIY Home Movie Theater for The LaBrant Family!: None',\n",
       " \"I Haven't Been Honest About My Injury.. Here's THE TRUTH: None\",\n",
       " 'OUR FIRST FAMILY INTRO!!: None',\n",
       " 'CGP Grey was WRONG: None',\n",
       " \"SURPRISING MY DAD WITH HIS DREAM TRUCK!! | Louie's Life: None\",\n",
       " 'Ovi x Natanael Cano x Aleman x Big Soto - Vengo De Nada [Official Video]: None']"
      ]
     },
     "execution_count": 13,
     "metadata": {},
     "output_type": "execute_result"
    }
   ],
   "source": [
    "query5=('MATCH (videos:Videos)-[:HAS_PERFORMANCE]->(performance:Performance) \\\n",
    "RETURN videos.title, performance.comments \\\n",
    "ORDER BY performance.comments DESC \\\n",
    "LIMIT 10')\n",
    "result5 = session.run(query5)   \n",
    "[f\"{record['videos.title']}: {record['performance.comments']}\" for record in result5]"
   ]
  },
  {
   "attachments": {},
   "cell_type": "markdown",
   "metadata": {},
   "source": [
    "What are the top 10 most frequent words appeared in the top 1000 most viewed videos'tags in the sports category"
   ]
  },
  {
   "cell_type": "code",
   "execution_count": 14,
   "metadata": {},
   "outputs": [
    {
     "data": {
      "text/plain": [
       "[{'tucker budzyn': 22},\n",
       " {'my dog reacts': 21},\n",
       " {'dog reviews food': 21},\n",
       " {'tucker taste test': 21},\n",
       " {'golden retriever': 19},\n",
       " {'jealous dog reaction': 18},\n",
       " {'funny dog reaction': 17},\n",
       " {'animals': 16},\n",
       " {'tucker the dog': 16},\n",
       " {'dog reviews food with girlfriend': 15}]"
      ]
     },
     "execution_count": 14,
     "metadata": {},
     "output_type": "execute_result"
    }
   ],
   "source": [
    "query6 = (\n",
    "    \"MATCH (videos:Videos)-[:BELONG_TO]->(category:Category{name: 'Pets & Animals'}) \"\n",
    "    \"WHERE size(videos.tags) > 0 \"\n",
    "    \"WITH videos \"\n",
    "    \"ORDER BY videos.views DESC \"\n",
    "    \"LIMIT 100 \"\n",
    "    \"UNWIND split(videos.tags, '|') as tag \"\n",
    "    \"WITH TOLOWER(tag) as lowercase_tag \"\n",
    "    \"WITH lowercase_tag, count(*) as tag_count \"\n",
    "    \"WHERE lowercase_tag <> '[none]' AND lowercase_tag <> ''\"\n",
    "    \"RETURN lowercase_tag, tag_count \"\n",
    "    \"ORDER BY tag_count DESC \"\n",
    "    \"LIMIT 10\"\n",
    ")\n",
    "result6 = session.run(query6)\n",
    "[{record[\"lowercase_tag\"]:record['tag_count']} for record in result6]"
   ]
  },
  {
   "attachments": {},
   "cell_type": "markdown",
   "metadata": {},
   "source": [
    "Build the Flask web search engine for top 10 highest frequency tags of top 1000 videos in each category"
   ]
  },
  {
   "cell_type": "code",
   "execution_count": 15,
   "metadata": {},
   "outputs": [],
   "source": [
    "#  Create a flask application instance\n",
    "from flask import Flask, render_template, request\n",
    "app = Flask(__name__)\n",
    "\n",
    "driver = GraphDatabase.driver(\"bolt://localhost:7689\", auth=(\"apan5400\", \"12345678\"))\n",
    "\n"
   ]
  },
  {
   "cell_type": "code",
   "execution_count": 16,
   "metadata": {},
   "outputs": [
    {
     "name": "stdout",
     "output_type": "stream",
     "text": [
      "mkdir: templates: File exists\n"
     ]
    }
   ],
   "source": [
    "mkdir templates"
   ]
  },
  {
   "cell_type": "code",
   "execution_count": 17,
   "metadata": {},
   "outputs": [],
   "source": [
    "# Build a function that input a category then return 10 most frequent tags\n",
    "def get_top_tags(category_name):\n",
    "    with driver.session() as session:\n",
    "        query = (\n",
    "            f\"MATCH (videos:Videos)-[:BELONG_TO]->(category:Category{{name: '{category_name}'}}) \"\n",
    "            \"WHERE size(videos.tags) > 0 \"\n",
    "            \"WITH videos \"\n",
    "            \"ORDER BY videos.views DESC \"\n",
    "            \"LIMIT 1000 \"\n",
    "            \"UNWIND split(videos.tags, '|') as tag \"\n",
    "            \"WITH TOLOWER(tag) as lowercase_tag \"\n",
    "            \"WITH lowercase_tag, count(*) as tag_count \"\n",
    "            \"WHERE lowercase_tag <> '[none]' AND lowercase_tag <> ''\"\n",
    "            \"RETURN lowercase_tag, tag_count \"\n",
    "            \"ORDER BY tag_count DESC \"\n",
    "            \"LIMIT 10\"\n",
    "        )\n",
    "        result = session.run(query)\n",
    "        tags = [{record[\"lowercase_tag\"]: record[\"tag_count\"]} for record in result]\n",
    "        return tags\n"
   ]
  },
  {
   "cell_type": "code",
   "execution_count": 18,
   "metadata": {},
   "outputs": [
    {
     "data": {
      "text/plain": [
       "[{'football': 184},\n",
       " {'highlights': 162},\n",
       " {'nba': 161},\n",
       " {'sports': 131},\n",
       " {'soccer': 124},\n",
       " {'basketball': 114},\n",
       " {'boxing': 86},\n",
       " {'espn': 76},\n",
       " {'nfl': 70},\n",
       " {'ufc': 61}]"
      ]
     },
     "execution_count": 18,
     "metadata": {},
     "output_type": "execute_result"
    }
   ],
   "source": [
    "get_top_tags('Sports')"
   ]
  },
  {
   "cell_type": "code",
   "execution_count": 19,
   "metadata": {},
   "outputs": [],
   "source": [
    "# Create a flask route\n",
    "\n",
    "app.view_functions.pop('home', None)\n",
    "app.view_functions.pop('search', None)\n",
    "app.view_functions.pop('result', None)\n",
    "\n",
    "@app.route('/', methods=['GET', 'POST'])\n",
    "def search():\n",
    "    return render_template('search.html')"
   ]
  },
  {
   "cell_type": "code",
   "execution_count": 20,
   "metadata": {},
   "outputs": [],
   "source": [
    "@app.route('/results', methods=['GET', 'POST'])\n",
    "def result():\n",
    "    print(request.method) # Print out the request method\n",
    "    if request.method == 'POST':\n",
    "        category_name = request.form['category']\n",
    "        result = get_top_tags(category_name)\n",
    "        return render_template('result.html', result=result, category=category_name)\n",
    "    else:\n",
    "        return render_template('search.html'), 200"
   ]
  },
  {
   "cell_type": "code",
   "execution_count": null,
   "metadata": {},
   "outputs": [],
   "source": [
    "if __name__ == '__main__':\n",
    "    app.config['DEBUG'] = True\n",
    "    app.run()"
   ]
  }
 ],
 "metadata": {
  "kernelspec": {
   "display_name": "Python 3",
   "language": "python",
   "name": "python3"
  },
  "language_info": {
   "codemirror_mode": {
    "name": "ipython",
    "version": 3
   },
   "file_extension": ".py",
   "mimetype": "text/x-python",
   "name": "python",
   "nbconvert_exporter": "python",
   "pygments_lexer": "ipython3",
   "version": "3.9.16"
  },
  "orig_nbformat": 4
 },
 "nbformat": 4,
 "nbformat_minor": 2
}
